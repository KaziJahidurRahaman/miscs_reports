{
  "cells": [
    {
      "cell_type": "markdown",
      "metadata": {
        "id": "view-in-github",
        "colab_type": "text"
      },
      "source": [
        "<a href=\"https://colab.research.google.com/github/KaziJahidurRahaman/miscs_reports/blob/main/Time_efficient_ts_data_extraction_onGEE_Python_API.ipynb\" target=\"_parent\"><img src=\"https://colab.research.google.com/assets/colab-badge.svg\" alt=\"Open In Colab\"/></a>"
      ]
    },
    {
      "cell_type": "markdown",
      "id": "602b18ef",
      "metadata": {
        "id": "602b18ef"
      },
      "source": [
        "# Time efficient timeseries data extraction on Google Earth Engine Python API"
      ]
    },
    {
      "cell_type": "markdown",
      "id": "f9ac5b16",
      "metadata": {
        "id": "f9ac5b16"
      },
      "source": [
        "This file holds the code for the medium article <b> Time efficient timeseries data extraction on Google Earth Engine Python API. </b>"
      ]
    },
    {
      "cell_type": "code",
      "source": [],
      "metadata": {
        "id": "t2Ki8O7a1luh"
      },
      "id": "t2Ki8O7a1luh",
      "execution_count": 11,
      "outputs": []
    },
    {
      "cell_type": "code",
      "execution_count": 12,
      "id": "4938504b",
      "metadata": {
        "colab": {
          "base_uri": "https://localhost:8080/",
          "height": 176
        },
        "id": "4938504b",
        "outputId": "dfb14b1e-224e-417d-c2ba-aa795ab40d7d"
      },
      "outputs": [
        {
          "output_type": "display_data",
          "data": {
            "text/plain": [
              "<IPython.core.display.HTML object>"
            ],
            "text/html": [
              "\n",
              "            <style>\n",
              "                .geemap-dark {\n",
              "                    --jp-widgets-color: white;\n",
              "                    --jp-widgets-label-color: white;\n",
              "                    --jp-ui-font-color1: white;\n",
              "                    --jp-layout-color2: #454545;\n",
              "                    background-color: #383838;\n",
              "                }\n",
              "                    \n",
              "                .geemap-dark .jupyter-button {\n",
              "                    --jp-layout-color3: #383838;\n",
              "                }\n",
              "                \n",
              "                .geemap-colab {\n",
              "                    background-color: var(--colab-primary-surface-color, white);\n",
              "                }\n",
              "                    \n",
              "                .geemap-colab .jupyter-button {\n",
              "                    --jp-layout-color3: var(--colab-primary-surface-color, white);\n",
              "                }\n",
              "            </style>\n",
              "            "
            ]
          },
          "metadata": {}
        },
        {
          "output_type": "stream",
          "name": "stdout",
          "text": [
            "To authorize access needed by Earth Engine, open the following URL in a web browser and follow the instructions. If the web browser does not start automatically, please manually browse the URL below.\n",
            "\n",
            "    https://code.earthengine.google.com/client-auth?scopes=https%3A//www.googleapis.com/auth/earthengine%20https%3A//www.googleapis.com/auth/devstorage.full_control&request_id=rmlgxHpLnzk7n03h6Bs5VRVGXfUGX3_tjtcVOie0OSg&tc=YWoeNfXAH_fTK4uCZJtCapTNIJCWVOnbK4znegelBww&cc=i0N3rA7-H6LxoafUSGfy0Z2eZni8P8aIvgwqXg_yiQo\n",
            "\n",
            "The authorization workflow will generate a code, which you should paste in the box below.\n",
            "Enter verification code: 4/1AfJohXk4Z-CMRo-Gu314hIJQvkhZ3CRtvgP6AZp9CUISywLKFvpNx3K4cTM\n",
            "\n",
            "Successfully saved authorization token.\n"
          ]
        }
      ],
      "source": [
        "# Import the necesarry libraries\n",
        "import matplotlib.pyplot as plt\n",
        "import pandas as pd\n",
        "import numpy as np\n",
        "import geemap as emap\n",
        "from datetime import datetime\n",
        "import ee\n",
        "\n",
        "# Trigger GEE\n",
        "ee.Authenticate()\n",
        "ee.Initialize()"
      ]
    },
    {
      "cell_type": "code",
      "execution_count": 13,
      "id": "981cf3ce",
      "metadata": {
        "colab": {
          "base_uri": "https://localhost:8080/",
          "height": 621,
          "referenced_widgets": [
            "35bc363bb8d9457889d46a614617f513",
            "5d53b7c66f9249459d85dececfddb3d6",
            "6dccd7034b3542b3b5108b6bb758ba19",
            "8d4c78da56b24e279c76a3d07c9b677b",
            "445878ec3dd343e3bdc287e70a44b003",
            "ec77175c2a57410ca1357f7318a9ed38",
            "1806c14dd0964924929d6851ad67a0d1",
            "3111f2e67db449c6911dd4a9c2f7e1d6",
            "0f83af4a1e034a40847970c3537c3a85",
            "262a95efc3d5449b90288088c321710f",
            "d6fe6e7d24fe4399856a5a7ae26adaed",
            "e7bedd28d8f44ad2839d062bda7607a8",
            "fb36e2c9aea0440e9ceb69724ca2adb4",
            "11180d843bfc48a3990d9f2762d1e683",
            "dd4d24d22bbe4293802d5cc8575e86e9",
            "fe7d96368d4843798c05eb1eb4e2cb43",
            "882ff4b774af4bada61166a92626f452",
            "4e27034cd4334dc99986c34451e69267",
            "e7790263c8184e129d557209b2c73492",
            "8563306c2518488a8457cedb52793b6c",
            "e1bee0daf9b04798a07acf181a610f23",
            "0d0e6310c91946cbaeb9a35b154cb518",
            "85968f05bfcc48169ae34140109062fe",
            "570b39b52f4b4bf881d2c21fd55a89b2",
            "c8da035f447643b7b5cb03c86ec6499f",
            "3eca033fae5545e1a44fca6dcd23a023",
            "47ad68b7f24b40c7b63f173c44cb188a"
          ]
        },
        "id": "981cf3ce",
        "outputId": "d98a4b94-adf2-4b7c-c4f3-86c0bb5bbc57"
      },
      "outputs": [
        {
          "output_type": "display_data",
          "data": {
            "text/plain": [
              "<IPython.core.display.HTML object>"
            ],
            "text/html": [
              "\n",
              "            <style>\n",
              "                .geemap-dark {\n",
              "                    --jp-widgets-color: white;\n",
              "                    --jp-widgets-label-color: white;\n",
              "                    --jp-ui-font-color1: white;\n",
              "                    --jp-layout-color2: #454545;\n",
              "                    background-color: #383838;\n",
              "                }\n",
              "                    \n",
              "                .geemap-dark .jupyter-button {\n",
              "                    --jp-layout-color3: #383838;\n",
              "                }\n",
              "                \n",
              "                .geemap-colab {\n",
              "                    background-color: var(--colab-primary-surface-color, white);\n",
              "                }\n",
              "                    \n",
              "                .geemap-colab .jupyter-button {\n",
              "                    --jp-layout-color3: var(--colab-primary-surface-color, white);\n",
              "                }\n",
              "            </style>\n",
              "            "
            ]
          },
          "metadata": {}
        },
        {
          "output_type": "display_data",
          "data": {
            "text/plain": [
              "Map(center=[52.39584444865192, 13.79911815987345], controls=(WidgetControl(options=['position', 'transparent_b…"
            ],
            "application/vnd.jupyter.widget-view+json": {
              "version_major": 2,
              "version_minor": 0,
              "model_id": "35bc363bb8d9457889d46a614617f513"
            }
          },
          "metadata": {
            "application/vnd.jupyter.widget-view+json": {
              "colab": {
                "custom_widget_manager": {
                  "url": "https://ssl.gstatic.com/colaboratory-static/widgets/colab-cdn-widget-manager/b3e629b1971e1542/manager.min.js"
                }
              }
            }
          }
        }
      ],
      "source": [
        "# Area of interest, somewhere near Berlin, Germany\n",
        "roi = ee.Geometry.Rectangle([13.7828066313537398, 52.3817774379818601,\n",
        "                            13.8154296884080576, 52.4099122039370400])\n",
        "start_date = '2014-01-01'\n",
        "end_date = '2021-12-31'\n",
        "\n",
        "# Always better to filter the dataset as finer as possible\n",
        "collectionS1 = ee.ImageCollection('COPERNICUS/S1_GRD')\\\n",
        "    .filter(ee.Filter.eq('instrumentMode', 'IW'))\\\n",
        "    .filter(ee.Filter.listContains('transmitterReceiverPolarisation', 'VH'))\\\n",
        "    .filterMetadata('resolution_meters', 'equals', 10)\\\n",
        "    .filterBounds(roi).filterDate(start_date, end_date)\n",
        "\n",
        "\n",
        "# Filter for ascending orbit images\n",
        "filtered_collection_2014_2021 = collectionS1.filterMetadata('orbitProperties_pass', 'equals', 'ASCENDING')\n",
        "# Sort the filtered collection by date in ascending order\n",
        "sorted_collection_2014_2021 = filtered_collection_2014_2021.sort('system:time_start')\n",
        "\n",
        "# create interactive map for visual representations\n",
        "Map = emap.Map()\n",
        "# Add the ROI to the map\n",
        "Map.addLayer(sorted_collection_2014_2021.first().select('VV'), {'min': -25, 'max': 5}, 'Collection First Image')\n",
        "Map.addLayer(roi, {}, 'ROI Bounding Box')\n",
        "Map.addLayerControl()\n",
        "# Center the map on the ROI\n",
        "Map.centerObject(roi, 12)  # You can adjust the zoom level (12 in this case)\n",
        "Map"
      ]
    },
    {
      "cell_type": "markdown",
      "id": "d2b959cc",
      "metadata": {
        "id": "d2b959cc"
      },
      "source": [
        "## Time Series Data Extraction: Time-Consuming Approach"
      ]
    },
    {
      "cell_type": "code",
      "execution_count": 14,
      "id": "0cfe902e",
      "metadata": {
        "colab": {
          "base_uri": "https://localhost:8080/",
          "height": 654
        },
        "id": "0cfe902e",
        "outputId": "fd915e76-c50a-40b1-fb22-e2b09e58b2a8"
      },
      "outputs": [
        {
          "output_type": "display_data",
          "data": {
            "text/plain": [
              "<IPython.core.display.HTML object>"
            ],
            "text/html": [
              "\n",
              "            <style>\n",
              "                .geemap-dark {\n",
              "                    --jp-widgets-color: white;\n",
              "                    --jp-widgets-label-color: white;\n",
              "                    --jp-ui-font-color1: white;\n",
              "                    --jp-layout-color2: #454545;\n",
              "                    background-color: #383838;\n",
              "                }\n",
              "                    \n",
              "                .geemap-dark .jupyter-button {\n",
              "                    --jp-layout-color3: #383838;\n",
              "                }\n",
              "                \n",
              "                .geemap-colab {\n",
              "                    background-color: var(--colab-primary-surface-color, white);\n",
              "                }\n",
              "                    \n",
              "                .geemap-colab .jupyter-button {\n",
              "                    --jp-layout-color3: var(--colab-primary-surface-color, white);\n",
              "                }\n",
              "            </style>\n",
              "            "
            ]
          },
          "metadata": {}
        },
        {
          "output_type": "stream",
          "name": "stdout",
          "text": [
            "Processed Images: 374\n",
            "Starting time: 20231015103330\n",
            "Ending time: 20231015103716\n",
            "Elapsed time:0:03:45.522433 Hours\n"
          ]
        },
        {
          "output_type": "display_data",
          "data": {
            "text/plain": [
              "<Figure size 1200x600 with 1 Axes>"
            ],
            "image/png": "[encoded data removed]"
          },
          "metadata": {}
        }
      ],
      "source": [
        "# Initialize empty lists to store dates and backscatter values\n",
        "time_start = datetime.now()\n",
        "dates = []\n",
        "backscatter_values = []\n",
        "\n",
        "# Iterate through the sorted collection\n",
        "for image in sorted_collection_2014_2021.toList(sorted_collection_2014_2021.size()).getInfo():\n",
        " # Convert the image object to an Earth Engine image\n",
        " ee_image = ee.Image(image['id'])\n",
        "\n",
        " # Get the acquisition date as a string\n",
        " date_str = ee_image.get('system:time_start').getInfo()\n",
        "\n",
        " # Parse the string date into a Python datetime object\n",
        " acquisition_date = datetime.utcfromtimestamp(int(date_str) // 1000)\n",
        " dates.append(acquisition_date)\n",
        "\n",
        " # Get the VH band from the image\n",
        " vh_band = ee_image.select('VH')\n",
        "\n",
        " # Calculate the mean backscatter value within the ROI\n",
        " stats = vh_band.reduceRegion(reducer=ee.Reducer.mean(), geometry=roi, scale=10)\n",
        " backscatter_value = stats.get('VH').getInfo()\n",
        " backscatter_values.append(backscatter_value)\n",
        "\n",
        "# Create a DataFrame to store the data\n",
        "data = {'Date': dates, 'VH Backscatter': backscatter_values}\n",
        "df = pd.DataFrame(data)\n",
        "\n",
        "# Plot the VH backscatter values over time\n",
        "plt.figure(figsize=(12, 6))\n",
        "plt.plot(df['Date'], df['VH Backscatter'], marker='o', linestyle='-', color='b')\n",
        "plt.title('Change in VH Backscatter Over Time')\n",
        "plt.xlabel('Date')\n",
        "plt.ylabel('VH Backscatter (dB)')\n",
        "plt.grid(True)\n",
        "plt.xticks(rotation=45)\n",
        "\n",
        "time_end = datetime.now()\n",
        "print(f'Processed Images: {sorted_collection_2014_2021.size().getInfo()}')\n",
        "print(f'Starting time: {time_start.strftime(\"%Y%m%d%H%M%S\")}')\n",
        "print(f'Ending time: {time_end.strftime(\"%Y%m%d%H%M%S\")}')\n",
        "print(f'Elapsed time:{time_end- time_start} Hours')\n",
        "plt.show()"
      ]
    },
    {
      "cell_type": "markdown",
      "id": "cad67157",
      "metadata": {
        "id": "cad67157"
      },
      "source": [
        "## Time Series Data Extraction: Time-Efficient Approach"
      ]
    },
    {
      "cell_type": "code",
      "execution_count": 15,
      "id": "54333ea9",
      "metadata": {
        "colab": {
          "base_uri": "https://localhost:8080/",
          "height": 676
        },
        "id": "54333ea9",
        "outputId": "e44c39a9-8707-4683-873d-3917ae0455a0"
      },
      "outputs": [
        {
          "output_type": "display_data",
          "data": {
            "text/plain": [
              "<IPython.core.display.HTML object>"
            ],
            "text/html": [
              "\n",
              "            <style>\n",
              "                .geemap-dark {\n",
              "                    --jp-widgets-color: white;\n",
              "                    --jp-widgets-label-color: white;\n",
              "                    --jp-ui-font-color1: white;\n",
              "                    --jp-layout-color2: #454545;\n",
              "                    background-color: #383838;\n",
              "                }\n",
              "                    \n",
              "                .geemap-dark .jupyter-button {\n",
              "                    --jp-layout-color3: #383838;\n",
              "                }\n",
              "                \n",
              "                .geemap-colab {\n",
              "                    background-color: var(--colab-primary-surface-color, white);\n",
              "                }\n",
              "                    \n",
              "                .geemap-colab .jupyter-button {\n",
              "                    --jp-layout-color3: var(--colab-primary-surface-color, white);\n",
              "                }\n",
              "            </style>\n",
              "            "
            ]
          },
          "metadata": {}
        },
        {
          "output_type": "stream",
          "name": "stdout",
          "text": [
            "Processed Images: 374\n",
            "Starting time: 20231015103717\n",
            "Ending time: 20231015103719\n",
            "Elapsed time:0:00:02.547830 Hours\n"
          ]
        },
        {
          "output_type": "display_data",
          "data": {
            "text/plain": [
              "<Figure size 1200x600 with 1 Axes>"
            ],
            "image/png": "[encoded data removed]"
          },
          "metadata": {}
        }
      ],
      "source": [
        "time_start = datetime.now()\n",
        "\n",
        "def datedist(img):\n",
        " img = ee.Image(img)\n",
        " date = img.get('system:time_start')\n",
        "\n",
        " vh_band = img.select('VH')\n",
        " stats = vh_band.reduceRegion(reducer=ee.Reducer.mean(), geometry=roi, scale=10)\n",
        " backscatter_value = stats.get('VH')\n",
        " return img.set('DateDist', date).set('backscatter', backscatter_value)\n",
        "\n",
        "# Map the function to the image collection\n",
        "sorted_collection_2014_2021_changed = sorted_collection_2014_2021.map(datedist)\n",
        "\n",
        "# Use aggregate_array to get the 'DateDist' values as an array\n",
        "dates_array = sorted_collection_2014_2021_changed.aggregate_array('DateDist')\n",
        "\n",
        "# Use aggregate_array to get the 'DateDist' values as an array\n",
        "backscatter_array = sorted_collection_2014_2021_changed.aggregate_array('backscatter')\n",
        "\n",
        "# Convert the array to a list using getInfo()\n",
        "dates_list = dates_array.getInfo()\n",
        "backscatter_list = backscatter_array.getInfo()\n",
        "string_timestamps = [datetime.utcfromtimestamp(int(date_str) // 1000) for date_str in dates_list]\n",
        "\n",
        "# Create a DataFrame to store the data\n",
        "data = {'Date': string_timestamps, 'VH Backscatter': backscatter_list}\n",
        "df = pd.DataFrame(data)\n",
        "\n",
        "# Plot the VH backscatter values over time\n",
        "plt.figure(figsize=(12, 6))\n",
        "plt.plot(df['Date'], df['VH Backscatter'], marker='o', linestyle='-', color='b')\n",
        "plt.title('Change in VH Backscatter Over Time')\n",
        "plt.xlabel('Date')\n",
        "plt.ylabel('VH Backscatter (dB)')\n",
        "plt.grid(True)\n",
        "plt.xticks(rotation=45)\n",
        "plt.tight_layout()\n",
        "\n",
        "time_end = datetime.now()\n",
        "print(f'Processed Images: {sorted_collection_2014_2021.size().getInfo()}')\n",
        "print(f'Starting time: {time_start.strftime(\"%Y%m%d%H%M%S\")}')\n",
        "print(f'Ending time: {time_end.strftime(\"%Y%m%d%H%M%S\")}')\n",
        "print(f'Elapsed time:{time_end- time_start} Hours')\n",
        "plt.show()"
      ]
    }
  ],
  "metadata": {
    "kernelspec": {
      "display_name": "Python 3 (ipykernel)",
      "language": "python",
      "name": "python3"
    },
    "language_info": {
      "codemirror_mode": {
        "name": "ipython",
        "version": 3
      },
      "file_extension": ".py",
      "mimetype": "text/x-python",
      "name": "python",
      "nbconvert_exporter": "python",
      "pygments_lexer": "ipython3",
      "version": "3.10.9"
    },
    "colab": {
      "provenance": [],
      "include_colab_link": true
    },
    "widgets": {
      "application/vnd.jupyter.widget-state+json": {
        "35bc363bb8d9457889d46a614617f513": {
          "model_module": "jupyter-leaflet",
          "model_name": "LeafletMapModel",
          "model_module_version": "^0.17",
          "state": {
            "_dom_classes": [],
            "_model_module": "jupyter-leaflet",
            "_model_module_version": "^0.17",
            "_model_name": "LeafletMapModel",
            "_view_count": null,
            "_view_module": "jupyter-leaflet",
            "_view_module_version": "^0.17",
            "_view_name": "LeafletMapView",
            "bottom": 10899,
            "bounce_at_zoom_limits": true,
            "box_zoom": true,
            "center": [
              53.49294782332984,
              11.727905273437502
            ],
            "close_popup_on_click": true,
            "controls": [
              "IPY_MODEL_5d53b7c66f9249459d85dececfddb3d6",
              "IPY_MODEL_6dccd7034b3542b3b5108b6bb758ba19",
              "IPY_MODEL_8d4c78da56b24e279c76a3d07c9b677b",
              "IPY_MODEL_445878ec3dd343e3bdc287e70a44b003",
              "IPY_MODEL_ec77175c2a57410ca1357f7318a9ed38",
              "IPY_MODEL_1806c14dd0964924929d6851ad67a0d1",
              "IPY_MODEL_3111f2e67db449c6911dd4a9c2f7e1d6",
              "IPY_MODEL_0f83af4a1e034a40847970c3537c3a85",
              "IPY_MODEL_262a95efc3d5449b90288088c321710f"
            ],
            "crs": {
              "name": "EPSG3857",
              "custom": false
            },
            "default_style": "IPY_MODEL_d6fe6e7d24fe4399856a5a7ae26adaed",
            "double_click_zoom": true,
            "dragging": true,
            "dragging_style": "IPY_MODEL_e7bedd28d8f44ad2839d062bda7607a8",
            "east": 21.544189453125004,
            "fullscreen": false,
            "inertia": true,
            "inertia_deceleration": 3000,
            "inertia_max_speed": 1500,
            "interpolation": "bilinear",
            "keyboard": true,
            "keyboard_pan_offset": 80,
            "keyboard_zoom_offset": 1,
            "layers": [
              "IPY_MODEL_fb36e2c9aea0440e9ceb69724ca2adb4",
              "IPY_MODEL_11180d843bfc48a3990d9f2762d1e683",
              "IPY_MODEL_dd4d24d22bbe4293802d5cc8575e86e9"
            ],
            "layout": "IPY_MODEL_fe7d96368d4843798c05eb1eb4e2cb43",
            "left": 16559,
            "max_zoom": 24,
            "min_zoom": null,
            "modisdate": "2023-10-14",
            "north": 55.41030721005221,
            "options": [
              "bounce_at_zoom_limits",
              "box_zoom",
              "center",
              "close_popup_on_click",
              "double_click_zoom",
              "dragging",
              "fullscreen",
              "inertia",
              "inertia_deceleration",
              "inertia_max_speed",
              "interpolation",
              "keyboard",
              "keyboard_pan_offset",
              "keyboard_zoom_offset",
              "max_zoom",
              "min_zoom",
              "prefer_canvas",
              "scroll_wheel_zoom",
              "tap",
              "tap_tolerance",
              "touch_zoom",
              "world_copy_jump",
              "zoom",
              "zoom_animation_threshold",
              "zoom_delta",
              "zoom_snap"
            ],
            "panes": {},
            "prefer_canvas": false,
            "right": 18345,
            "scroll_wheel_zoom": true,
            "south": 51.48822432632349,
            "style": "IPY_MODEL_d6fe6e7d24fe4399856a5a7ae26adaed",
            "tap": true,
            "tap_tolerance": 15,
            "top": 10299,
            "touch_zoom": true,
            "west": 1.9226074218750002,
            "window_url": "https://i91cxoqb2zl-496ff2e9c6d22116-0-colab.googleusercontent.com/outputframe.html?vrz=colab_20231012-060150_RC00_572849617",
            "world_copy_jump": false,
            "zoom": 7,
            "zoom_animation_threshold": 4,
            "zoom_delta": 1,
            "zoom_snap": 1
          }
        },
        "5d53b7c66f9249459d85dececfddb3d6": {
          "model_module": "jupyter-leaflet",
          "model_name": "LeafletWidgetControlModel",
          "model_module_version": "^0.17",
          "state": {
            "_model_module": "jupyter-leaflet",
            "_model_module_version": "^0.17",
            "_model_name": "LeafletWidgetControlModel",
            "_view_count": null,
            "_view_module": "jupyter-leaflet",
            "_view_module_version": "^0.17",
            "_view_name": "LeafletWidgetControlView",
            "max_height": null,
            "max_width": null,
            "min_height": null,
            "min_width": null,
            "options": [
              "position",
              "transparent_bg"
            ],
            "position": "topleft",
            "transparent_bg": false,
            "widget": "IPY_MODEL_4e27034cd4334dc99986c34451e69267"
          }
        },
        "6dccd7034b3542b3b5108b6bb758ba19": {
          "model_module": "jupyter-leaflet",
          "model_name": "LeafletZoomControlModel",
          "model_module_version": "^0.17",
          "state": {
            "_model_module": "jupyter-leaflet",
            "_model_module_version": "^0.17",
            "_model_name": "LeafletZoomControlModel",
            "_view_count": null,
            "_view_module": "jupyter-leaflet",
            "_view_module_version": "^0.17",
            "_view_name": "LeafletZoomControlView",
            "options": [
              "position",
              "zoom_in_text",
              "zoom_in_title",
              "zoom_out_text",
              "zoom_out_title"
            ],
            "position": "topleft",
            "zoom_in_text": "+",
            "zoom_in_title": "Zoom in",
            "zoom_out_text": "-",
            "zoom_out_title": "Zoom out"
          }
        },
        "8d4c78da56b24e279c76a3d07c9b677b": {
          "model_module": "jupyter-leaflet",
          "model_name": "LeafletFullScreenControlModel",
          "model_module_version": "^0.17",
          "state": {
            "_model_module": "jupyter-leaflet",
            "_model_module_version": "^0.17",
            "_model_name": "LeafletFullScreenControlModel",
            "_view_count": null,
            "_view_module": "jupyter-leaflet",
            "_view_module_version": "^0.17",
            "_view_name": "LeafletFullScreenControlView",
            "options": [
              "position"
            ],
            "position": "topleft"
          }
        },
        "445878ec3dd343e3bdc287e70a44b003": {
          "model_module": "jupyter-leaflet",
          "model_name": "LeafletDrawControlModel",
          "model_module_version": "^0.17",
          "state": {
            "_model_module": "jupyter-leaflet",
            "_model_module_version": "^0.17",
            "_model_name": "LeafletDrawControlModel",
            "_view_count": null,
            "_view_module": "jupyter-leaflet",
            "_view_module_version": "^0.17",
            "_view_name": "LeafletDrawControlView",
            "circle": {},
            "circlemarker": {},
            "data": [],
            "edit": true,
            "marker": {
              "shapeOptions": {
                "color": "#3388ff"
              }
            },
            "options": [
              "position"
            ],
            "polygon": {
              "shapeOptions": {}
            },
            "polyline": {
              "shapeOptions": {}
            },
            "position": "topleft",
            "rectangle": {
              "shapeOptions": {
                "color": "#3388ff"
              }
            },
            "remove": true
          }
        },
        "ec77175c2a57410ca1357f7318a9ed38": {
          "model_module": "jupyter-leaflet",
          "model_name": "LeafletScaleControlModel",
          "model_module_version": "^0.17",
          "state": {
            "_model_module": "jupyter-leaflet",
            "_model_module_version": "^0.17",
            "_model_name": "LeafletScaleControlModel",
            "_view_count": null,
            "_view_module": "jupyter-leaflet",
            "_view_module_version": "^0.17",
            "_view_name": "LeafletScaleControlView",
            "imperial": true,
            "max_width": 100,
            "metric": true,
            "options": [
              "imperial",
              "max_width",
              "metric",
              "position",
              "update_when_idle"
            ],
            "position": "bottomleft",
            "update_when_idle": false
          }
        },
        "1806c14dd0964924929d6851ad67a0d1": {
          "model_module": "jupyter-leaflet",
          "model_name": "LeafletMeasureControlModel",
          "model_module_version": "^0.17",
          "state": {
            "_custom_units": {},
            "_model_module": "jupyter-leaflet",
            "_model_module_version": "^0.17",
            "_model_name": "LeafletMeasureControlModel",
            "_view_count": null,
            "_view_module": "jupyter-leaflet",
            "_view_module_version": "^0.17",
            "_view_name": "LeafletMeasureControlView",
            "active_color": "orange",
            "capture_z_index": 10000,
            "completed_color": "#C8F2BE",
            "options": [
              "active_color",
              "capture_z_index",
              "completed_color",
              "popup_options",
              "position",
              "primary_area_unit",
              "primary_length_unit",
              "secondary_area_unit",
              "secondary_length_unit"
            ],
            "popup_options": {
              "className": "leaflet-measure-resultpopup",
              "autoPanPadding": [
                10,
                10
              ]
            },
            "position": "bottomleft",
            "primary_area_unit": "acres",
            "primary_length_unit": "kilometers",
            "secondary_area_unit": null,
            "secondary_length_unit": null
          }
        },
        "3111f2e67db449c6911dd4a9c2f7e1d6": {
          "model_module": "jupyter-leaflet",
          "model_name": "LeafletWidgetControlModel",
          "model_module_version": "^0.17",
          "state": {
            "_model_module": "jupyter-leaflet",
            "_model_module_version": "^0.17",
            "_model_name": "LeafletWidgetControlModel",
            "_view_count": null,
            "_view_module": "jupyter-leaflet",
            "_view_module_version": "^0.17",
            "_view_name": "LeafletWidgetControlView",
            "max_height": null,
            "max_width": null,
            "min_height": null,
            "min_width": null,
            "options": [
              "position",
              "transparent_bg"
            ],
            "position": "topright",
            "transparent_bg": false,
            "widget": "IPY_MODEL_e7790263c8184e129d557209b2c73492"
          }
        },
        "0f83af4a1e034a40847970c3537c3a85": {
          "model_module": "jupyter-leaflet",
          "model_name": "LeafletAttributionControlModel",
          "model_module_version": "^0.17",
          "state": {
            "_model_module": "jupyter-leaflet",
            "_model_module_version": "^0.17",
            "_model_name": "LeafletAttributionControlModel",
            "_view_count": null,
            "_view_module": "jupyter-leaflet",
            "_view_module_version": "^0.17",
            "_view_name": "LeafletAttributionControlView",
            "options": [
              "position",
              "prefix"
            ],
            "position": "bottomright",
            "prefix": "ipyleaflet"
          }
        },
        "262a95efc3d5449b90288088c321710f": {
          "model_module": "jupyter-leaflet",
          "model_name": "LeafletLayersControlModel",
          "model_module_version": "^0.17",
          "state": {
            "_model_module": "jupyter-leaflet",
            "_model_module_version": "^0.17",
            "_model_name": "LeafletLayersControlModel",
            "_view_count": null,
            "_view_module": "jupyter-leaflet",
            "_view_module_version": "^0.17",
            "_view_name": "LeafletLayersControlView",
            "options": [
              "position"
            ],
            "position": "topright"
          }
        },
        "d6fe6e7d24fe4399856a5a7ae26adaed": {
          "model_module": "jupyter-leaflet",
          "model_name": "LeafletMapStyleModel",
          "model_module_version": "^0.17",
          "state": {
            "_model_module": "jupyter-leaflet",
            "_model_module_version": "^0.17",
            "_model_name": "LeafletMapStyleModel",
            "_view_count": null,
            "_view_module": "@jupyter-widgets/base",
            "_view_module_version": "1.2.0",
            "_view_name": "StyleView",
            "cursor": "grab"
          }
        },
        "e7bedd28d8f44ad2839d062bda7607a8": {
          "model_module": "jupyter-leaflet",
          "model_name": "LeafletMapStyleModel",
          "model_module_version": "^0.17",
          "state": {
            "_model_module": "jupyter-leaflet",
            "_model_module_version": "^0.17",
            "_model_name": "LeafletMapStyleModel",
            "_view_count": null,
            "_view_module": "@jupyter-widgets/base",
            "_view_module_version": "1.2.0",
            "_view_name": "StyleView",
            "cursor": "move"
          }
        },
        "fb36e2c9aea0440e9ceb69724ca2adb4": {
          "model_module": "jupyter-leaflet",
          "model_name": "LeafletTileLayerModel",
          "model_module_version": "^0.17",
          "state": {
            "_model_module": "jupyter-leaflet",
            "_model_module_version": "^0.17",
            "_model_name": "LeafletTileLayerModel",
            "_view_count": null,
            "_view_module": "jupyter-leaflet",
            "_view_module_version": "^0.17",
            "_view_name": "LeafletTileLayerView",
            "attribution": "&copy; <a href=\"https://www.openstreetmap.org/copyright\">OpenStreetMap</a> contributors",
            "base": true,
            "bottom": true,
            "bounds": null,
            "detect_retina": false,
            "loading": false,
            "max_native_zoom": null,
            "max_zoom": 19,
            "min_native_zoom": null,
            "min_zoom": 1,
            "name": "OpenStreetMap.Mapnik",
            "no_wrap": false,
            "opacity": 1,
            "options": [
              "attribution",
              "bounds",
              "detect_retina",
              "max_native_zoom",
              "max_zoom",
              "min_native_zoom",
              "min_zoom",
              "no_wrap",
              "tile_size",
              "tms",
              "zoom_offset"
            ],
            "pane": "",
            "popup": null,
            "popup_max_height": null,
            "popup_max_width": 300,
            "popup_min_width": 50,
            "show_loading": false,
            "subitems": [],
            "tile_size": 256,
            "tms": false,
            "url": "https://tile.openstreetmap.org/{z}/{x}/{y}.png",
            "visible": true,
            "zoom_offset": 0
          }
        },
        "11180d843bfc48a3990d9f2762d1e683": {
          "model_module": "jupyter-leaflet",
          "model_name": "LeafletTileLayerModel",
          "model_module_version": "^0.17",
          "state": {
            "_model_module": "jupyter-leaflet",
            "_model_module_version": "^0.17",
            "_model_name": "LeafletTileLayerModel",
            "_view_count": null,
            "_view_module": "jupyter-leaflet",
            "_view_module_version": "^0.17",
            "_view_name": "LeafletTileLayerView",
            "attribution": "Google Earth Engine",
            "base": false,
            "bottom": true,
            "bounds": null,
            "detect_retina": false,
            "loading": false,
            "max_native_zoom": null,
            "max_zoom": 24,
            "min_native_zoom": null,
            "min_zoom": 0,
            "name": "Collection First Image",
            "no_wrap": false,
            "opacity": 1,
            "options": [
              "attribution",
              "bounds",
              "detect_retina",
              "max_native_zoom",
              "max_zoom",
              "min_native_zoom",
              "min_zoom",
              "no_wrap",
              "tile_size",
              "tms",
              "zoom_offset"
            ],
            "pane": "",
            "popup": null,
            "popup_max_height": null,
            "popup_max_width": 300,
            "popup_min_width": 50,
            "show_loading": false,
            "subitems": [],
            "tile_size": 256,
            "tms": false,
            "url": "https://earthengine.googleapis.com/v1/projects/earthengine-legacy/maps/5f931d375dffbeb630b505adb3f1bd5b-0adc8e3f917f96ea7e15f83cb2563038/tiles/{z}/{x}/{y}",
            "visible": true,
            "zoom_offset": 0
          }
        },
        "dd4d24d22bbe4293802d5cc8575e86e9": {
          "model_module": "jupyter-leaflet",
          "model_name": "LeafletTileLayerModel",
          "model_module_version": "^0.17",
          "state": {
            "_model_module": "jupyter-leaflet",
            "_model_module_version": "^0.17",
            "_model_name": "LeafletTileLayerModel",
            "_view_count": null,
            "_view_module": "jupyter-leaflet",
            "_view_module_version": "^0.17",
            "_view_name": "LeafletTileLayerView",
            "attribution": "Google Earth Engine",
            "base": false,
            "bottom": true,
            "bounds": null,
            "detect_retina": false,
            "loading": false,
            "max_native_zoom": null,
            "max_zoom": 24,
            "min_native_zoom": null,
            "min_zoom": 0,
            "name": "ROI Bounding Box",
            "no_wrap": false,
            "opacity": 1,
            "options": [
              "attribution",
              "bounds",
              "detect_retina",
              "max_native_zoom",
              "max_zoom",
              "min_native_zoom",
              "min_zoom",
              "no_wrap",
              "tile_size",
              "tms",
              "zoom_offset"
            ],
            "pane": "",
            "popup": null,
            "popup_max_height": null,
            "popup_max_width": 300,
            "popup_min_width": 50,
            "show_loading": false,
            "subitems": [],
            "tile_size": 256,
            "tms": false,
            "url": "https://earthengine.googleapis.com/v1/projects/earthengine-legacy/maps/2656e954bbc2c86a5c80c1063436d4b1-e4a1fe9118568000a53c434670f5dc4a/tiles/{z}/{x}/{y}",
            "visible": true,
            "zoom_offset": 0
          }
        },
        "fe7d96368d4843798c05eb1eb4e2cb43": {
          "model_module": "@jupyter-widgets/base",
          "model_name": "LayoutModel",
          "model_module_version": "1.2.0",
          "state": {
            "_model_module": "@jupyter-widgets/base",
            "_model_module_version": "1.2.0",
            "_model_name": "LayoutModel",
            "_view_count": null,
            "_view_module": "@jupyter-widgets/base",
            "_view_module_version": "1.2.0",
            "_view_name": "LayoutView",
            "align_content": null,
            "align_items": null,
            "align_self": null,
            "border": null,
            "bottom": null,
            "display": null,
            "flex": null,
            "flex_flow": null,
            "grid_area": null,
            "grid_auto_columns": null,
            "grid_auto_flow": null,
            "grid_auto_rows": null,
            "grid_column": null,
            "grid_gap": null,
            "grid_row": null,
            "grid_template_areas": null,
            "grid_template_columns": null,
            "grid_template_rows": null,
            "height": "600px",
            "justify_content": null,
            "justify_items": null,
            "left": null,
            "margin": null,
            "max_height": null,
            "max_width": null,
            "min_height": null,
            "min_width": null,
            "object_fit": null,
            "object_position": null,
            "order": null,
            "overflow": null,
            "overflow_x": null,
            "overflow_y": null,
            "padding": null,
            "right": null,
            "top": null,
            "visibility": null,
            "width": null
          }
        },
        "882ff4b774af4bada61166a92626f452": {
          "model_module": "jupyter-leaflet",
          "model_name": "LeafletMapStyleModel",
          "model_module_version": "^0.17",
          "state": {
            "_model_module": "jupyter-leaflet",
            "_model_module_version": "^0.17",
            "_model_name": "LeafletMapStyleModel",
            "_view_count": null,
            "_view_module": "@jupyter-widgets/base",
            "_view_module_version": "1.2.0",
            "_view_name": "StyleView",
            "cursor": "grab"
          }
        },
        "4e27034cd4334dc99986c34451e69267": {
          "model_module": "@jupyter-widgets/controls",
          "model_name": "HBoxModel",
          "model_module_version": "1.5.0",
          "state": {
            "_dom_classes": [
              "geemap-colab"
            ],
            "_model_module": "@jupyter-widgets/controls",
            "_model_module_version": "1.5.0",
            "_model_name": "HBoxModel",
            "_view_count": null,
            "_view_module": "@jupyter-widgets/controls",
            "_view_module_version": "1.5.0",
            "_view_name": "HBoxView",
            "box_style": "",
            "children": [
              "IPY_MODEL_8563306c2518488a8457cedb52793b6c"
            ],
            "layout": "IPY_MODEL_e1bee0daf9b04798a07acf181a610f23"
          }
        },
        "e7790263c8184e129d557209b2c73492": {
          "model_module": "@jupyter-widgets/controls",
          "model_name": "VBoxModel",
          "model_module_version": "1.5.0",
          "state": {
            "_dom_classes": [
              "geemap-colab"
            ],
            "_model_module": "@jupyter-widgets/controls",
            "_model_module_version": "1.5.0",
            "_model_name": "VBoxModel",
            "_view_count": null,
            "_view_module": "@jupyter-widgets/controls",
            "_view_module_version": "1.5.0",
            "_view_name": "VBoxView",
            "box_style": "",
            "children": [
              "IPY_MODEL_0d0e6310c91946cbaeb9a35b154cb518"
            ],
            "layout": "IPY_MODEL_85968f05bfcc48169ae34140109062fe"
          }
        },
        "8563306c2518488a8457cedb52793b6c": {
          "model_module": "@jupyter-widgets/controls",
          "model_name": "ToggleButtonModel",
          "model_module_version": "1.5.0",
          "state": {
            "_dom_classes": [],
            "_model_module": "@jupyter-widgets/controls",
            "_model_module_version": "1.5.0",
            "_model_name": "ToggleButtonModel",
            "_view_count": null,
            "_view_module": "@jupyter-widgets/controls",
            "_view_module_version": "1.5.0",
            "_view_name": "ToggleButtonView",
            "button_style": "",
            "description": "",
            "description_tooltip": null,
            "disabled": false,
            "icon": "globe",
            "layout": "IPY_MODEL_570b39b52f4b4bf881d2c21fd55a89b2",
            "style": "IPY_MODEL_c8da035f447643b7b5cb03c86ec6499f",
            "tooltip": "Search location/data",
            "value": false
          }
        },
        "e1bee0daf9b04798a07acf181a610f23": {
          "model_module": "@jupyter-widgets/base",
          "model_name": "LayoutModel",
          "model_module_version": "1.2.0",
          "state": {
            "_model_module": "@jupyter-widgets/base",
            "_model_module_version": "1.2.0",
            "_model_name": "LayoutModel",
            "_view_count": null,
            "_view_module": "@jupyter-widgets/base",
            "_view_module_version": "1.2.0",
            "_view_name": "LayoutView",
            "align_content": null,
            "align_items": null,
            "align_self": null,
            "border": null,
            "bottom": null,
            "display": null,
            "flex": null,
            "flex_flow": null,
            "grid_area": null,
            "grid_auto_columns": null,
            "grid_auto_flow": null,
            "grid_auto_rows": null,
            "grid_column": null,
            "grid_gap": null,
            "grid_row": null,
            "grid_template_areas": null,
            "grid_template_columns": null,
            "grid_template_rows": null,
            "height": null,
            "justify_content": null,
            "justify_items": null,
            "left": null,
            "margin": null,
            "max_height": null,
            "max_width": null,
            "min_height": null,
            "min_width": null,
            "object_fit": null,
            "object_position": null,
            "order": null,
            "overflow": null,
            "overflow_x": null,
            "overflow_y": null,
            "padding": null,
            "right": null,
            "top": null,
            "visibility": null,
            "width": null
          }
        },
        "0d0e6310c91946cbaeb9a35b154cb518": {
          "model_module": "@jupyter-widgets/controls",
          "model_name": "ToggleButtonModel",
          "model_module_version": "1.5.0",
          "state": {
            "_dom_classes": [],
            "_model_module": "@jupyter-widgets/controls",
            "_model_module_version": "1.5.0",
            "_model_name": "ToggleButtonModel",
            "_view_count": null,
            "_view_module": "@jupyter-widgets/controls",
            "_view_module_version": "1.5.0",
            "_view_name": "ToggleButtonView",
            "button_style": "",
            "description": "",
            "description_tooltip": null,
            "disabled": false,
            "icon": "wrench",
            "layout": "IPY_MODEL_3eca033fae5545e1a44fca6dcd23a023",
            "style": "IPY_MODEL_47ad68b7f24b40c7b63f173c44cb188a",
            "tooltip": "Toolbar",
            "value": false
          }
        },
        "85968f05bfcc48169ae34140109062fe": {
          "model_module": "@jupyter-widgets/base",
          "model_name": "LayoutModel",
          "model_module_version": "1.2.0",
          "state": {
            "_model_module": "@jupyter-widgets/base",
            "_model_module_version": "1.2.0",
            "_model_name": "LayoutModel",
            "_view_count": null,
            "_view_module": "@jupyter-widgets/base",
            "_view_module_version": "1.2.0",
            "_view_name": "LayoutView",
            "align_content": null,
            "align_items": null,
            "align_self": null,
            "border": null,
            "bottom": null,
            "display": null,
            "flex": null,
            "flex_flow": null,
            "grid_area": null,
            "grid_auto_columns": null,
            "grid_auto_flow": null,
            "grid_auto_rows": null,
            "grid_column": null,
            "grid_gap": null,
            "grid_row": null,
            "grid_template_areas": null,
            "grid_template_columns": null,
            "grid_template_rows": null,
            "height": null,
            "justify_content": null,
            "justify_items": null,
            "left": null,
            "margin": null,
            "max_height": null,
            "max_width": null,
            "min_height": null,
            "min_width": null,
            "object_fit": null,
            "object_position": null,
            "order": null,
            "overflow": null,
            "overflow_x": null,
            "overflow_y": null,
            "padding": null,
            "right": null,
            "top": null,
            "visibility": null,
            "width": null
          }
        },
        "570b39b52f4b4bf881d2c21fd55a89b2": {
          "model_module": "@jupyter-widgets/base",
          "model_name": "LayoutModel",
          "model_module_version": "1.2.0",
          "state": {
            "_model_module": "@jupyter-widgets/base",
            "_model_module_version": "1.2.0",
            "_model_name": "LayoutModel",
            "_view_count": null,
            "_view_module": "@jupyter-widgets/base",
            "_view_module_version": "1.2.0",
            "_view_name": "LayoutView",
            "align_content": null,
            "align_items": null,
            "align_self": null,
            "border": null,
            "bottom": null,
            "display": null,
            "flex": null,
            "flex_flow": null,
            "grid_area": null,
            "grid_auto_columns": null,
            "grid_auto_flow": null,
            "grid_auto_rows": null,
            "grid_column": null,
            "grid_gap": null,
            "grid_row": null,
            "grid_template_areas": null,
            "grid_template_columns": null,
            "grid_template_rows": null,
            "height": "28px",
            "justify_content": null,
            "justify_items": null,
            "left": null,
            "margin": null,
            "max_height": null,
            "max_width": null,
            "min_height": null,
            "min_width": null,
            "object_fit": null,
            "object_position": null,
            "order": null,
            "overflow": null,
            "overflow_x": null,
            "overflow_y": null,
            "padding": "0px 0px 0px 4px",
            "right": null,
            "top": null,
            "visibility": null,
            "width": "28px"
          }
        },
        "c8da035f447643b7b5cb03c86ec6499f": {
          "model_module": "@jupyter-widgets/controls",
          "model_name": "DescriptionStyleModel",
          "model_module_version": "1.5.0",
          "state": {
            "_model_module": "@jupyter-widgets/controls",
            "_model_module_version": "1.5.0",
            "_model_name": "DescriptionStyleModel",
            "_view_count": null,
            "_view_module": "@jupyter-widgets/base",
            "_view_module_version": "1.2.0",
            "_view_name": "StyleView",
            "description_width": ""
          }
        },
        "3eca033fae5545e1a44fca6dcd23a023": {
          "model_module": "@jupyter-widgets/base",
          "model_name": "LayoutModel",
          "model_module_version": "1.2.0",
          "state": {
            "_model_module": "@jupyter-widgets/base",
            "_model_module_version": "1.2.0",
            "_model_name": "LayoutModel",
            "_view_count": null,
            "_view_module": "@jupyter-widgets/base",
            "_view_module_version": "1.2.0",
            "_view_name": "LayoutView",
            "align_content": null,
            "align_items": null,
            "align_self": null,
            "border": null,
            "bottom": null,
            "display": null,
            "flex": null,
            "flex_flow": null,
            "grid_area": null,
            "grid_auto_columns": null,
            "grid_auto_flow": null,
            "grid_auto_rows": null,
            "grid_column": null,
            "grid_gap": null,
            "grid_row": null,
            "grid_template_areas": null,
            "grid_template_columns": null,
            "grid_template_rows": null,
            "height": "28px",
            "justify_content": null,
            "justify_items": null,
            "left": null,
            "margin": null,
            "max_height": null,
            "max_width": null,
            "min_height": null,
            "min_width": null,
            "object_fit": null,
            "object_position": null,
            "order": null,
            "overflow": null,
            "overflow_x": null,
            "overflow_y": null,
            "padding": "0px 0px 0px 4px",
            "right": null,
            "top": null,
            "visibility": null,
            "width": "28px"
          }
        },
        "47ad68b7f24b40c7b63f173c44cb188a": {
          "model_module": "@jupyter-widgets/controls",
          "model_name": "DescriptionStyleModel",
          "model_module_version": "1.5.0",
          "state": {
            "_model_module": "@jupyter-widgets/controls",
            "_model_module_version": "1.5.0",
            "_model_name": "DescriptionStyleModel",
            "_view_count": null,
            "_view_module": "@jupyter-widgets/base",
            "_view_module_version": "1.2.0",
            "_view_name": "StyleView",
            "description_width": ""
          }
        }
      }
    }
  },
  "nbformat": 4,
  "nbformat_minor": 5
}